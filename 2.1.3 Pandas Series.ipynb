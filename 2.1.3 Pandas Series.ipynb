{
 "cells": [
  {
   "cell_type": "code",
   "execution_count": 1,
   "id": "8ebd362c",
   "metadata": {},
   "outputs": [],
   "source": [
    "# import Pandas library\n",
    "import pandas as pd"
   ]
  },
  {
   "cell_type": "code",
   "execution_count": 2,
   "id": "71f8010b",
   "metadata": {},
   "outputs": [
    {
     "name": "stdout",
     "output_type": "stream",
     "text": [
      "0     green\n",
      "1       red\n",
      "2    yellow\n",
      "3      blue\n",
      "4     black\n",
      "5     white\n",
      "dtype: object\n"
     ]
    }
   ],
   "source": [
    "# Create the variable colours.\n",
    "# Pass an array of data.\n",
    "colours = pd.Series(['green', 'red', 'yellow', 'blue', 'black', 'white'])\n",
    "\n",
    "# Print the Series.\n",
    "print(colours)"
   ]
  },
  {
   "cell_type": "code",
   "execution_count": 3,
   "id": "6b2f3738",
   "metadata": {},
   "outputs": [
    {
     "name": "stdout",
     "output_type": "stream",
     "text": [
      "0    1\n",
      "1    2\n",
      "2    3\n",
      "3    4\n",
      "4    5\n",
      "5    6\n",
      "dtype: int64\n"
     ]
    }
   ],
   "source": [
    "# Create a list.\n",
    "example_list = [1, 2, 3, 4, 5, 6]\n",
    "  \n",
    "# Create Series from a list.\n",
    "numbers = pd.Series(example_list)\n",
    "\n",
    "# Print the Series.\n",
    "print(numbers)"
   ]
  },
  {
   "cell_type": "code",
   "execution_count": 6,
   "id": "a765f4e9",
   "metadata": {},
   "outputs": [
    {
     "name": "stdout",
     "output_type": "stream",
     "text": [
      "AU    Australian Dollar\n",
      "US            US Dollar\n",
      "IN         Indian Rupee\n",
      "DK         Danish Krone\n",
      "SW          Swiss Franc\n",
      "dtype: object\n"
     ]
    }
   ],
   "source": [
    "# Create a dictionary.\n",
    "# Specify the dictionary as dict_1.\n",
    "dict_1 = {'AU':'Australian Dollar',\n",
    "          'US': 'US Dollar',\n",
    "          'IN': 'Indian Rupee',\n",
    "          'DK': 'Danish Krone',\n",
    "          'SW': 'Swiss Franc'}\n",
    "\n",
    "# Name and create the Series.\n",
    "economics = pd.Series(dict_1)\n",
    "\n",
    "# Print the Series.\n",
    "print(economics)"
   ]
  },
  {
   "cell_type": "code",
   "execution_count": 20,
   "id": "c6c5169d",
   "metadata": {},
   "outputs": [
    {
     "name": "stdout",
     "output_type": "stream",
     "text": [
      "Law Enforcement               123\n",
      "Fire and Rescue Services      224\n",
      "Emergency Medical Services    101\n",
      "Emergency Management          999\n",
      "Public Works                  900\n",
      "dtype: object\n"
     ]
    }
   ],
   "source": [
    "# Create a dictionary.\n",
    "# Specify the dictionary as dictionary.\n",
    "dictionary = {'Law Enforcement': '123', \n",
    "          'Fire and Rescue Services': '224',\n",
    "          'Emergency Medical Services': '101', \n",
    "          'Emergency Management': '999',\n",
    "          'Public Works': '900'}\n",
    "\n",
    "# Name and create the Series.\n",
    "emergency_numbers = pd.Series(dictionary)\n",
    "\n",
    "# Print the Series.\n",
    "print(emergency_numbers)"
   ]
  },
  {
   "cell_type": "code",
   "execution_count": 17,
   "id": "3e33228f",
   "metadata": {},
   "outputs": [
    {
     "name": "stdout",
     "output_type": "stream",
     "text": [
      "0      Prevention\n",
      "1      mitigation\n",
      "2    preparedness\n",
      "3        response\n",
      "4        recovery\n",
      "dtype: object\n"
     ]
    }
   ],
   "source": [
    "# Create a list.\n",
    "list = ['Prevention', 'mitigation', 'preparedness', 'response', 'recovery']\n",
    "        \n",
    "# Create Series from a list.\n",
    "emergency_protocols = pd.Series(list)\n",
    "\n",
    "# Print the Series.\n",
    "print(emergency_protocols)"
   ]
  },
  {
   "cell_type": "code",
   "execution_count": 19,
   "id": "7d6556b7",
   "metadata": {},
   "outputs": [
    {
     "name": "stdout",
     "output_type": "stream",
     "text": [
      "1          Check carotid pulse (neck)\n",
      "2                    breathing (nose)\n",
      "3    obstructions (nose, ears, mouth)\n",
      "4                 pupils (responsive)\n",
      "5                       consciousness\n",
      "6                     contact details\n",
      "7                           allergies\n",
      "dtype: object\n"
     ]
    }
   ],
   "source": [
    "# Create the variable checklist.\n",
    "# Pass an array of data.\n",
    "checklist = pd.Series(['Check carotid pulse (neck)', 'breathing (nose)', 'obstructions (nose, ears, mouth)',\n",
    "                       'pupils (responsive)', 'consciousness', 'contact details', 'allergies'],\n",
    "                     index = [1, 2, 3, 4, 5, 6, 7])\n",
    "\n",
    "# Print the Series.\n",
    "print(checklist)"
   ]
  },
  {
   "cell_type": "code",
   "execution_count": null,
   "id": "f7e46ad2",
   "metadata": {},
   "outputs": [],
   "source": []
  }
 ],
 "metadata": {
  "kernelspec": {
   "display_name": "Python 3 (ipykernel)",
   "language": "python",
   "name": "python3"
  },
  "language_info": {
   "codemirror_mode": {
    "name": "ipython",
    "version": 3
   },
   "file_extension": ".py",
   "mimetype": "text/x-python",
   "name": "python",
   "nbconvert_exporter": "python",
   "pygments_lexer": "ipython3",
   "version": "3.9.12"
  }
 },
 "nbformat": 4,
 "nbformat_minor": 5
}
