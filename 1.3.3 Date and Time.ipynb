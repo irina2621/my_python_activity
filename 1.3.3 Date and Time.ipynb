{
 "cells": [
  {
   "cell_type": "code",
   "execution_count": 1,
   "id": "630faf3a",
   "metadata": {},
   "outputs": [
    {
     "name": "stdout",
     "output_type": "stream",
     "text": [
      "2021-06-10\n",
      "<class 'datetime.date'>\n"
     ]
    }
   ],
   "source": [
    "# Printing a specific date.\n",
    "import datetime\n",
    "d = datetime.date(2021, 6, 10)\n",
    "\n",
    "print(d)\n",
    "print(type(d))"
   ]
  },
  {
   "cell_type": "code",
   "execution_count": 2,
   "id": "96215e6f",
   "metadata": {},
   "outputs": [
    {
     "name": "stdout",
     "output_type": "stream",
     "text": [
      "2022-02-10\n",
      "<class 'datetime.date'>\n"
     ]
    }
   ],
   "source": [
    "# Import the DateTime module and date class.\n",
    "from datetime import date\n",
    "\n",
    "d = date(2022, 2, 10)\n",
    "print(d)\n",
    "print(type(d))"
   ]
  },
  {
   "cell_type": "code",
   "execution_count": 6,
   "id": "82a7d2c9",
   "metadata": {},
   "outputs": [
    {
     "name": "stdout",
     "output_type": "stream",
     "text": [
      "2022-09-14 20:14:38.297385\n"
     ]
    }
   ],
   "source": [
    "import datetime\n",
    "x = datetime.datetime.now()\n",
    "print(x)"
   ]
  },
  {
   "cell_type": "code",
   "execution_count": 8,
   "id": "c97bcc94",
   "metadata": {},
   "outputs": [
    {
     "name": "stdout",
     "output_type": "stream",
     "text": [
      "Current year: 2022\n",
      "Current month: 9\n",
      "Current day: 14\n"
     ]
    }
   ],
   "source": [
    "# Printing current year, month and day.\n",
    "from datetime import date\n",
    "#date object of today's date\n",
    "today = date.today()\n",
    "\n",
    "print(\"Current year:\", today.year)\n",
    "print(\"Current month:\", today.month)\n",
    "print(\"Current day:\", today.day)"
   ]
  },
  {
   "cell_type": "code",
   "execution_count": 9,
   "id": "16de22b8",
   "metadata": {},
   "outputs": [
    {
     "name": "stdout",
     "output_type": "stream",
     "text": [
      "time = 06:45:25.234566\n"
     ]
    }
   ],
   "source": [
    "# Import module.\n",
    "from datetime import time\n",
    "\n",
    "# Creating a time object.\n",
    "# time(hour, minute, second, microsecond). \n",
    "t = time(6, 45, 25, 234566) \n",
    "\n",
    "print(\"time =\",t)"
   ]
  },
  {
   "cell_type": "code",
   "execution_count": 10,
   "id": "0373a2dd",
   "metadata": {},
   "outputs": [
    {
     "name": "stdout",
     "output_type": "stream",
     "text": [
      "hour = 6\n",
      "minute = 45\n",
      "second = 25\n",
      "microsecond = 234566\n"
     ]
    }
   ],
   "source": [
    "# Creating a time object.\n",
    "# time (hour, minute, second, microsecond) \n",
    "t = time (6, 45, 25, 234566)\n",
    "\n",
    "print(\"hour =\", t.hour)\n",
    "print(\"minute =\", t.minute)\n",
    "print(\"second =\", t.second)\n",
    "print(\"microsecond =\", t.microsecond)"
   ]
  },
  {
   "cell_type": "code",
   "execution_count": 11,
   "id": "92a7655f",
   "metadata": {},
   "outputs": [
    {
     "name": "stdout",
     "output_type": "stream",
     "text": [
      "year = 2017\n",
      "month = 11\n",
      "day = 28\n",
      "hour = 23\n",
      "minute = 55\n",
      "seconds = 59\n",
      "micro seconds = 342380\n"
     ]
    }
   ],
   "source": [
    "# Import module and class.\n",
    "from datetime import datetime\n",
    "\n",
    "t = datetime (2017, 11, 28, 23, 55, 59, 342380)\n",
    "print(\"year =\", t.year)\n",
    "print(\"month =\", t.month)\n",
    "print(\"day =\", t.day)\n",
    "print(\"hour =\", t.hour)\n",
    "print(\"minute =\", t.minute)\n",
    "print(\"seconds =\", t.second)\n",
    "print(\"micro seconds =\", t.microsecond)"
   ]
  },
  {
   "cell_type": "code",
   "execution_count": 12,
   "id": "59af2854",
   "metadata": {},
   "outputs": [
    {
     "name": "stdout",
     "output_type": "stream",
     "text": [
      "time difference = 778 days, 16:50:12\n",
      "type of t3 = <class 'datetime.timedelta'>\n"
     ]
    }
   ],
   "source": [
    "from datetime import datetime, date \n",
    "# You can import more than one class or object at a time from a module.\n",
    "\n",
    "t1 = datetime(year=2021, month=12, day=15, hour=5, minute=45, second=25)\n",
    "t2 = datetime(year=2019, month=10, day=28, hour=12, minute=55, second=13)\n",
    "t3 = t1 - t2\n",
    "print(\"time difference =\", t3)\n",
    "print(\"type of t3 =\", type(t3))"
   ]
  },
  {
   "cell_type": "code",
   "execution_count": 13,
   "id": "4702b0a2",
   "metadata": {},
   "outputs": [
    {
     "name": "stdout",
     "output_type": "stream",
     "text": [
      "time difference in seconds = 67279812.0\n",
      "type of t3 = <class 'datetime.timedelta'>\n"
     ]
    }
   ],
   "source": [
    "t1 = datetime(year=2021, month=12, day=15, hour= 5, minute=45, second=25)\n",
    "t2 = datetime(year=2019, month=10, day=28, hour= 12, minute=55, second=13)\n",
    "t3 = t1 - t2\n",
    "\n",
    "print(\"time difference in seconds =\", t3.total_seconds())\n",
    "print(\"type of t3 =\", type(t3))"
   ]
  },
  {
   "cell_type": "code",
   "execution_count": 14,
   "id": "ed5f30e5",
   "metadata": {},
   "outputs": [
    {
     "name": "stdout",
     "output_type": "stream",
     "text": [
      "Current time 2022-09-14 20:19:14.680498\n",
      "Time with only hours, minutes and seconds: 20:19:14\n"
     ]
    }
   ],
   "source": [
    "# Import the datetime module and datetime class.\n",
    "from datetime import datetime\n",
    "\n",
    "# Current date and time .\n",
    "now = datetime.now() \n",
    "print('Current time', now)\n",
    "\n",
    "# Using strftime to only print hours, minutes and seconds. \n",
    "t = now.strftime(\"%H:%M:%S\")\n",
    "print(\"Time with only hours, minutes and seconds:\", t)"
   ]
  },
  {
   "cell_type": "code",
   "execution_count": 15,
   "id": "0003ae48",
   "metadata": {},
   "outputs": [
    {
     "name": "stdout",
     "output_type": "stream",
     "text": [
      "Date with / separators : 09/14/2022\n"
     ]
    }
   ],
   "source": [
    "# Changing the separators: \n",
    "t1 = now.strftime(\"%m/%d/%Y\")\n",
    "\n",
    "# MM/DD/YY format.\n",
    "print(\"Date with / separators :\", t1)"
   ]
  },
  {
   "cell_type": "code",
   "execution_count": 16,
   "id": "5166c2b6",
   "metadata": {},
   "outputs": [
    {
     "name": "stdout",
     "output_type": "stream",
     "text": [
      "date_string= 30 October 2021\n",
      "Data type of date-string --> <class 'str'>\n",
      "date_object = 2021-10-30 00:00:00\n",
      "Datatype of the date_string after formating with strptime --> <class 'datetime.datetime'>\n"
     ]
    }
   ],
   "source": [
    "# The date string you create in the previous code snippet.\n",
    "date_string = \"30 October 2021\"\n",
    "\n",
    "# Print the date_string.\n",
    "print(\"date_string=\", date_string)\n",
    "print(\"Data type of date-string -->\" , type(date_string))\n",
    "\n",
    "\n",
    "# This is the date format.\n",
    "date_object = datetime.strptime(date_string, \"%d %B %Y\") \n",
    "\n",
    "# Print the date_object.\n",
    "print(\"date_object =\", date_object) \n",
    "print(\"Datatype of the date_string after formating with strptime -->\",\n",
    "      type(date_object))"
   ]
  },
  {
   "cell_type": "code",
   "execution_count": 17,
   "id": "0d5f274a",
   "metadata": {},
   "outputs": [
    {
     "name": "stdout",
     "output_type": "stream",
     "text": [
      "Local: 14/09/2022, 20:23:15\n",
      "NY: 14/09/2022, 15:23:15\n",
      "London: 14/09/2022, 20:23:15\n"
     ]
    }
   ],
   "source": [
    "# Import modules and classes.\n",
    "import datetime \n",
    "from datetime import datetime, date \n",
    "import pytz\n",
    "\n",
    "local = datetime.now()\n",
    "print(\"Local:\", local.strftime (\"%d/%m/%Y, %H:%M:%S\"))\n",
    "\n",
    "# Here, datetime_NY and datetime_London are datetime objects containing the \n",
    "# current date and time of their respective time zones.\n",
    "tz_NY = pytz.timezone ('America/New_York')\n",
    "datetime_NY = datetime.now(tz_NY)\n",
    "\n",
    "print(\"NY:\", datetime_NY.strftime(\"%d/%m/%Y, %H:%M:%S\"))\n",
    "\n",
    "tz_London = pytz.timezone ('Europe/London') \n",
    "datetime_London = datetime.now(tz_London)\n",
    "\n",
    "print(\"London:\", datetime_London.strftime (\"%d/%m/%Y, %H:%M:%S\"))"
   ]
  },
  {
   "cell_type": "code",
   "execution_count": 22,
   "id": "88ba1c1b",
   "metadata": {},
   "outputs": [
    {
     "name": "stdout",
     "output_type": "stream",
     "text": [
      "hour = 14\n",
      "minute = 42\n",
      "second = 5\n",
      "microsecond = 566\n",
      "time is 14:42:05.000566\n"
     ]
    }
   ],
   "source": [
    "from datetime import time\n",
    "t = time(14, 42, 5, 566)\n",
    "print(\"hour =\", t.hour)\n",
    "print(\"minute =\", t.minute)\n",
    "print(\"second =\", t.second)\n",
    "print(\"microsecond =\", t.microsecond)\n",
    "print('time is', t)"
   ]
  },
  {
   "cell_type": "code",
   "execution_count": 27,
   "id": "0188ffdb",
   "metadata": {},
   "outputs": [
    {
     "name": "stdout",
     "output_type": "stream",
     "text": [
      "date is 2019/01/28, 23:55:59\n"
     ]
    }
   ],
   "source": [
    "from datetime import datetime\n",
    "dt = datetime(2019, 1, 28, 23, 55, 59, 1023)\n",
    "print(\"date is\", dt.strftime(\"%Y/%m/%d, %H:%M:%S\"))"
   ]
  },
  {
   "cell_type": "code",
   "execution_count": 37,
   "id": "2fe24932",
   "metadata": {},
   "outputs": [
    {
     "name": "stdout",
     "output_type": "stream",
     "text": [
      "Current date is 14/09/2022\n"
     ]
    }
   ],
   "source": [
    "from datetime import datetime\n",
    "now = datetime.now()\n",
    "print(\"Current date is\", now.strftime(\"%d/%m/%Y\"))"
   ]
  },
  {
   "cell_type": "code",
   "execution_count": 47,
   "id": "05010354",
   "metadata": {},
   "outputs": [
    {
     "name": "stdout",
     "output_type": "stream",
     "text": [
      "date is 28 January 2017\n"
     ]
    }
   ],
   "source": [
    "from datetime import datetime\n",
    "day = datetime(2017,1,28)\n",
    "print('date is', day.strftime(\"%d %B %Y\"))"
   ]
  },
  {
   "cell_type": "code",
   "execution_count": null,
   "id": "2741c03f",
   "metadata": {},
   "outputs": [],
   "source": []
  }
 ],
 "metadata": {
  "kernelspec": {
   "display_name": "Python 3 (ipykernel)",
   "language": "python",
   "name": "python3"
  },
  "language_info": {
   "codemirror_mode": {
    "name": "ipython",
    "version": 3
   },
   "file_extension": ".py",
   "mimetype": "text/x-python",
   "name": "python",
   "nbconvert_exporter": "python",
   "pygments_lexer": "ipython3",
   "version": "3.9.12"
  }
 },
 "nbformat": 4,
 "nbformat_minor": 5
}
