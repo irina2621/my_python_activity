{
 "cells": [
  {
   "cell_type": "code",
   "execution_count": 48,
   "id": "a0fec98e",
   "metadata": {},
   "outputs": [
    {
     "name": "stdout",
     "output_type": "stream",
     "text": [
      "{'Acre': 'Rio Branco', 'Alagoas': 'Maceio', 'Amapa': 'Macapa', 'Amazonas': 'Manaus', 'Bahia': 'Salvador', 'Ceara': 'Fortaleza', 'Distrito Federal': 'Brasilia', 'Espírito Santo': 'Vitoria', 'Goias': 'Goiania', 'Maranhao': 'Sao Luis', 'Mato Grosso': 'Cuiabo', 'Mato Grosso do Sul': 'Campo Grande', 'Minas Gerais': 'Belo Horizonte', 'Para': 'Belem', 'Paraiba': 'Joao Pessoa', 'Parana': 'Curitiba', 'Pernambuco': 'Recife', 'Piaui': 'Teresina', 'Rio de Janeiro': 'Rio de Janeiro', 'Rio Grande do Norte': 'Natal', 'Rio Grande do Sul': 'Porto Alegre', 'Rondonia': 'Porto Velho', 'Roraima': 'Boa Vista', 'Santa Catarina': 'Florianopolis', 'Sao Paulo': 'Sao Paulo', 'Sergipe': 'Aracaju', 'Tocantins': 'Palmas'}\n",
      "capital of Amazonas is Manaus\n",
      "capital of Goias is Goiania\n",
      "capital of Rio de Janeiro is Rio de Janeiro\n",
      "number of states: 27\n"
     ]
    }
   ],
   "source": [
    "# Create list with Brazilian states\n",
    "states = ['Acre', 'Alagoas', 'Amapa', 'Amazonas', 'Bahia', 'Ceara', 'Distrito Federal',\n",
    "          'Espírito Santo', 'Goias', 'Maranhao', 'Mato Grosso', 'Mato Grosso do Sul',\n",
    "          'Minas Gerais', 'Para', 'Paraiba', 'Parana', 'Pernambuco', 'Piaui', \n",
    "          'Rio de Janeiro', 'Rio Grande do Norte', 'Rio Grande do Sul', 'Rondonia',\n",
    "          'Roraima', 'Santa Catarina', 'Sao Paulo', 'Sergipe', 'Tocantins']\n",
    "# Create list with their capitals\n",
    "capitals = ['Rio Branco', 'Maceio', 'Macapa', 'Manaus', 'Salvador', 'Fortaleza', 'Brasilia',\n",
    "            'Vitoria', 'Goiania', 'Sao Luis', 'Cuiabo', 'Campo Grande', 'Belo Horizonte',\n",
    "            'Belem', 'Joao Pessoa', 'Curitiba', 'Recife', 'Teresina', 'Rio de Janeiro',\n",
    "            'Natal', 'Porto Alegre', 'Porto Velho', 'Boa Vista', 'Florianopolis', 'Sao Paulo',\n",
    "            'Aracaju', 'Palmas']\n",
    "\n",
    "# Create a dictionary where key is state, and value is capital:\n",
    "dict_brazil = dict(zip(states, capitals))\n",
    "print(dict_brazil)\n",
    "\n",
    "#return the capitals only for the states of Amazonas, Goiás, and Rio de Janeiro:\n",
    "for i in ['Amazonas', 'Goias', 'Rio de Janeiro']:\n",
    "    print('capital of', i,'is', dict_brazil[i])\n",
    "        \n",
    "# Print the size of the dictionary:\n",
    "print('number of states:', len(dict_brazil))"
   ]
  },
  {
   "cell_type": "code",
   "execution_count": null,
   "id": "21d31e04",
   "metadata": {},
   "outputs": [],
   "source": []
  },
  {
   "cell_type": "code",
   "execution_count": null,
   "id": "c0faab6f",
   "metadata": {},
   "outputs": [],
   "source": []
  }
 ],
 "metadata": {
  "kernelspec": {
   "display_name": "Python 3 (ipykernel)",
   "language": "python",
   "name": "python3"
  },
  "language_info": {
   "codemirror_mode": {
    "name": "ipython",
    "version": 3
   },
   "file_extension": ".py",
   "mimetype": "text/x-python",
   "name": "python",
   "nbconvert_exporter": "python",
   "pygments_lexer": "ipython3",
   "version": "3.9.12"
  }
 },
 "nbformat": 4,
 "nbformat_minor": 5
}
