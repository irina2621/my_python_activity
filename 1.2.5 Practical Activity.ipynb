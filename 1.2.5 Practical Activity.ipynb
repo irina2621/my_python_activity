{
 "cells": [
  {
   "cell_type": "code",
   "execution_count": 1,
   "id": "413a7992",
   "metadata": {},
   "outputs": [
    {
     "name": "stdout",
     "output_type": "stream",
     "text": [
      "My name is Irina\n",
      "The date is 12.09.2022\n"
     ]
    }
   ],
   "source": [
    "# this is my first line of code\n",
    "print(\"My name is Irina\")\n",
    "print(\"The date is 12.09.2022\")"
   ]
  },
  {
   "cell_type": "code",
   "execution_count": 2,
   "id": "3437681d",
   "metadata": {},
   "outputs": [],
   "source": [
    "# Write a program to analyse real estate data"
   ]
  },
  {
   "cell_type": "code",
   "execution_count": 18,
   "id": "b033f3cf",
   "metadata": {},
   "outputs": [
    {
     "name": "stdout",
     "output_type": "stream",
     "text": [
      "total sales for the month of December in US$\n",
      "182900\n",
      "average sales price for the month of December in US$\n",
      "36580.0\n",
      "the property price for property c in US$\n",
      "60500\n"
     ]
    }
   ],
   "source": [
    "a=45000\n",
    "b=23400\n",
    "c=67000\n",
    "d=34600\n",
    "e=12900\n",
    "sales=a+b+c+d+e\n",
    "average=sales/5\n",
    "commissiona=5000\n",
    "comissionb=3400\n",
    "commissionc=6500\n",
    "commissiond=4000\n",
    "commissione=1500\n",
    "print(\"total sales for the month of December in US$:\")\n",
    "print(sales)\n",
    "print('average sales price for the month of December in US$:')\n",
    "print(average)\n",
    "print('the property price for property c in US$:')\n",
    "print(c-commissionc)\n"
   ]
  }
 ],
 "metadata": {
  "kernelspec": {
   "display_name": "Python 3 (ipykernel)",
   "language": "python",
   "name": "python3"
  },
  "language_info": {
   "codemirror_mode": {
    "name": "ipython",
    "version": 3
   },
   "file_extension": ".py",
   "mimetype": "text/x-python",
   "name": "python",
   "nbconvert_exporter": "python",
   "pygments_lexer": "ipython3",
   "version": "3.9.12"
  }
 },
 "nbformat": 4,
 "nbformat_minor": 5
}
